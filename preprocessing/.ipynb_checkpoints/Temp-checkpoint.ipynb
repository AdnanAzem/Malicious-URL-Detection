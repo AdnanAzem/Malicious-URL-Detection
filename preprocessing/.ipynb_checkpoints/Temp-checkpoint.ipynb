{
 "cells": [
  {
   "cell_type": "markdown",
   "id": "d1f7478f",
   "metadata": {},
   "source": [
    "# DGA Data Collection and Feature Exraction and Training Model"
   ]
  },
  {
   "cell_type": "code",
   "execution_count": 1,
   "id": "a1fb01ff",
   "metadata": {},
   "outputs": [],
   "source": [
    "import numpy as np \n",
    "import pandas as pd\n",
    "import math\n",
    "from collections import Counter\n",
    "import tldextract"
   ]
  },
  {
   "cell_type": "markdown",
   "id": "4a6f7fae",
   "metadata": {},
   "source": [
    "### Data aquisition\n",
    "First off we'll start by reading our data which we uploaded, data is split into two datasets. One coming from Alexa's ranking and another from various DGA domains\n",
    "\n",
    "Our goal is to build a classifier which can differentiate between a legitimate domain name and a potential random one."
   ]
  },
  {
   "cell_type": "code",
   "execution_count": 2,
   "id": "13cd4df7",
   "metadata": {},
   "outputs": [
    {
     "data": {
      "text/html": [
       "<div>\n",
       "<style scoped>\n",
       "    .dataframe tbody tr th:only-of-type {\n",
       "        vertical-align: middle;\n",
       "    }\n",
       "\n",
       "    .dataframe tbody tr th {\n",
       "        vertical-align: top;\n",
       "    }\n",
       "\n",
       "    .dataframe thead th {\n",
       "        text-align: right;\n",
       "    }\n",
       "</style>\n",
       "<table border=\"1\" class=\"dataframe\">\n",
       "  <thead>\n",
       "    <tr style=\"text-align: right;\">\n",
       "      <th></th>\n",
       "      <th>source</th>\n",
       "      <th>domain_name</th>\n",
       "      <th>date</th>\n",
       "      <th>second</th>\n",
       "      <th>first</th>\n",
       "      <th>time</th>\n",
       "    </tr>\n",
       "  </thead>\n",
       "  <tbody>\n",
       "    <tr>\n",
       "      <th>0</th>\n",
       "      <td>nymaim</td>\n",
       "      <td>vvqbhhwma.org</td>\n",
       "      <td>2021-05-11</td>\n",
       "      <td>00:00:00</td>\n",
       "      <td>2021-05-11</td>\n",
       "      <td>23:59:59</td>\n",
       "    </tr>\n",
       "    <tr>\n",
       "      <th>1</th>\n",
       "      <td>nymaim</td>\n",
       "      <td>cfhauqbaz.com</td>\n",
       "      <td>2021-05-11</td>\n",
       "      <td>00:00:00</td>\n",
       "      <td>2021-05-11</td>\n",
       "      <td>23:59:59</td>\n",
       "    </tr>\n",
       "    <tr>\n",
       "      <th>2</th>\n",
       "      <td>nymaim</td>\n",
       "      <td>bvxjsbkqu.biz</td>\n",
       "      <td>2021-05-11</td>\n",
       "      <td>00:00:00</td>\n",
       "      <td>2021-05-11</td>\n",
       "      <td>23:59:59</td>\n",
       "    </tr>\n",
       "    <tr>\n",
       "      <th>3</th>\n",
       "      <td>nymaim</td>\n",
       "      <td>hggazskvkdy.com</td>\n",
       "      <td>2021-05-11</td>\n",
       "      <td>00:00:00</td>\n",
       "      <td>2021-05-11</td>\n",
       "      <td>23:59:59</td>\n",
       "    </tr>\n",
       "    <tr>\n",
       "      <th>4</th>\n",
       "      <td>nymaim</td>\n",
       "      <td>xgoqyxgfgm.com</td>\n",
       "      <td>2021-05-11</td>\n",
       "      <td>00:00:00</td>\n",
       "      <td>2021-05-11</td>\n",
       "      <td>23:59:59</td>\n",
       "    </tr>\n",
       "  </tbody>\n",
       "</table>\n",
       "</div>"
      ],
      "text/plain": [
       "   source      domain_name        date    second       first      time\n",
       "0  nymaim    vvqbhhwma.org  2021-05-11  00:00:00  2021-05-11  23:59:59\n",
       "1  nymaim    cfhauqbaz.com  2021-05-11  00:00:00  2021-05-11  23:59:59\n",
       "2  nymaim    bvxjsbkqu.biz  2021-05-11  00:00:00  2021-05-11  23:59:59\n",
       "3  nymaim  hggazskvkdy.com  2021-05-11  00:00:00  2021-05-11  23:59:59\n",
       "4  nymaim   xgoqyxgfgm.com  2021-05-11  00:00:00  2021-05-11  23:59:59"
      ]
     },
     "execution_count": 2,
     "metadata": {},
     "output_type": "execute_result"
    }
   ],
   "source": [
    "# Reading dga dataset\n",
    "columns_dga = [\"source\",\"domain_name\",\"date\",\"second\",\"first\", \"time\"]\n",
    "\n",
    "dga_domains = pd.read_csv(\"../data/DGA/dga_project_dga_domain_list_clean.txt\", sep=\"\\s+\", names=columns_dga)\n",
    "dga_domains.head()"
   ]
  },
  {
   "cell_type": "code",
   "execution_count": 3,
   "id": "be08ec7d",
   "metadata": {},
   "outputs": [
    {
     "name": "stdout",
     "output_type": "stream",
     "text": [
      "DGA Dataframe has 1404792 rows\n"
     ]
    },
    {
     "data": {
      "text/html": [
       "<div>\n",
       "<style scoped>\n",
       "    .dataframe tbody tr th:only-of-type {\n",
       "        vertical-align: middle;\n",
       "    }\n",
       "\n",
       "    .dataframe tbody tr th {\n",
       "        vertical-align: top;\n",
       "    }\n",
       "\n",
       "    .dataframe thead th {\n",
       "        text-align: right;\n",
       "    }\n",
       "</style>\n",
       "<table border=\"1\" class=\"dataframe\">\n",
       "  <thead>\n",
       "    <tr style=\"text-align: right;\">\n",
       "      <th></th>\n",
       "      <th>domain_name</th>\n",
       "      <th>label</th>\n",
       "    </tr>\n",
       "  </thead>\n",
       "  <tbody>\n",
       "    <tr>\n",
       "      <th>0</th>\n",
       "      <td>vvqbhhwma.org</td>\n",
       "      <td>dga</td>\n",
       "    </tr>\n",
       "    <tr>\n",
       "      <th>1</th>\n",
       "      <td>cfhauqbaz.com</td>\n",
       "      <td>dga</td>\n",
       "    </tr>\n",
       "    <tr>\n",
       "      <th>2</th>\n",
       "      <td>bvxjsbkqu.biz</td>\n",
       "      <td>dga</td>\n",
       "    </tr>\n",
       "    <tr>\n",
       "      <th>3</th>\n",
       "      <td>hggazskvkdy.com</td>\n",
       "      <td>dga</td>\n",
       "    </tr>\n",
       "    <tr>\n",
       "      <th>4</th>\n",
       "      <td>xgoqyxgfgm.com</td>\n",
       "      <td>dga</td>\n",
       "    </tr>\n",
       "  </tbody>\n",
       "</table>\n",
       "</div>"
      ],
      "text/plain": [
       "       domain_name label\n",
       "0    vvqbhhwma.org   dga\n",
       "1    cfhauqbaz.com   dga\n",
       "2    bvxjsbkqu.biz   dga\n",
       "3  hggazskvkdy.com   dga\n",
       "4   xgoqyxgfgm.com   dga"
      ]
     },
     "execution_count": 3,
     "metadata": {},
     "output_type": "execute_result"
    }
   ],
   "source": [
    "# Removing none useful columns \n",
    "dga_domains.drop([\"source\", \"date\", \"second\", \"first\", \"time\"], axis=1, inplace=True)\n",
    "dga_domains[\"label\"] = \"dga\"\n",
    "\n",
    "print(\"DGA Dataframe has {} rows\".format(dga_domains.shape[0]))\n",
    "dga_domains.head()"
   ]
  },
  {
   "cell_type": "code",
   "execution_count": 4,
   "id": "5695eef8",
   "metadata": {},
   "outputs": [
    {
     "name": "stdout",
     "output_type": "stream",
     "text": [
      "Legit Dataframe has 694787 rows\n"
     ]
    },
    {
     "data": {
      "text/html": [
       "<div>\n",
       "<style scoped>\n",
       "    .dataframe tbody tr th:only-of-type {\n",
       "        vertical-align: middle;\n",
       "    }\n",
       "\n",
       "    .dataframe tbody tr th {\n",
       "        vertical-align: top;\n",
       "    }\n",
       "\n",
       "    .dataframe thead th {\n",
       "        text-align: right;\n",
       "    }\n",
       "</style>\n",
       "<table border=\"1\" class=\"dataframe\">\n",
       "  <thead>\n",
       "    <tr style=\"text-align: right;\">\n",
       "      <th></th>\n",
       "      <th>domain_name</th>\n",
       "      <th>label</th>\n",
       "    </tr>\n",
       "  </thead>\n",
       "  <tbody>\n",
       "    <tr>\n",
       "      <th>1</th>\n",
       "      <td>google.com</td>\n",
       "      <td>legit</td>\n",
       "    </tr>\n",
       "    <tr>\n",
       "      <th>2</th>\n",
       "      <td>youtube.com</td>\n",
       "      <td>legit</td>\n",
       "    </tr>\n",
       "    <tr>\n",
       "      <th>3</th>\n",
       "      <td>tmall.com</td>\n",
       "      <td>legit</td>\n",
       "    </tr>\n",
       "    <tr>\n",
       "      <th>4</th>\n",
       "      <td>qq.com</td>\n",
       "      <td>legit</td>\n",
       "    </tr>\n",
       "    <tr>\n",
       "      <th>5</th>\n",
       "      <td>baidu.com</td>\n",
       "      <td>legit</td>\n",
       "    </tr>\n",
       "  </tbody>\n",
       "</table>\n",
       "</div>"
      ],
      "text/plain": [
       "   domain_name  label\n",
       "1   google.com  legit\n",
       "2  youtube.com  legit\n",
       "3    tmall.com  legit\n",
       "4       qq.com  legit\n",
       "5    baidu.com  legit"
      ]
     },
     "execution_count": 4,
     "metadata": {},
     "output_type": "execute_result"
    }
   ],
   "source": [
    "# Readin Alexa data\n",
    "legit_columns = [\"domain_name\"]\n",
    "\n",
    "# legit_domains = pd.read_csv(\"/kaggle/input/domain-generation-algorithm/dga_project_top-1m.csv\", names=legit_columns)\n",
    "legit_domains = pd.read_csv(\"../data/DGA/top-1m.csv\", names=legit_columns)\n",
    "legit_domains[\"label\"] = \"legit\"\n",
    "\n",
    "print(\"Legit Dataframe has {} rows\".format(legit_domains.shape[0]))\n",
    "legit_domains.head()"
   ]
  },
  {
   "cell_type": "code",
   "execution_count": 5,
   "id": "a79876a8",
   "metadata": {},
   "outputs": [],
   "source": [
    "# Adjusting datasets sizes and asserting that\n",
    "dga_domains = dga_domains.loc[:legit_domains.shape[0]-1, :]\n",
    "\n",
    "assert dga_domains.shape[0] == legit_domains.shape[0]"
   ]
  },
  {
   "cell_type": "code",
   "execution_count": 6,
   "id": "fc9cac32",
   "metadata": {},
   "outputs": [
    {
     "name": "stdout",
     "output_type": "stream",
     "text": [
      "Whole Dataset has 1389574 rows\n"
     ]
    },
    {
     "data": {
      "text/html": [
       "<div>\n",
       "<style scoped>\n",
       "    .dataframe tbody tr th:only-of-type {\n",
       "        vertical-align: middle;\n",
       "    }\n",
       "\n",
       "    .dataframe tbody tr th {\n",
       "        vertical-align: top;\n",
       "    }\n",
       "\n",
       "    .dataframe thead th {\n",
       "        text-align: right;\n",
       "    }\n",
       "</style>\n",
       "<table border=\"1\" class=\"dataframe\">\n",
       "  <thead>\n",
       "    <tr style=\"text-align: right;\">\n",
       "      <th></th>\n",
       "      <th>domain_name</th>\n",
       "      <th>label</th>\n",
       "    </tr>\n",
       "  </thead>\n",
       "  <tbody>\n",
       "    <tr>\n",
       "      <th>0</th>\n",
       "      <td>vvqbhhwma.org</td>\n",
       "      <td>dga</td>\n",
       "    </tr>\n",
       "    <tr>\n",
       "      <th>1</th>\n",
       "      <td>cfhauqbaz.com</td>\n",
       "      <td>dga</td>\n",
       "    </tr>\n",
       "    <tr>\n",
       "      <th>2</th>\n",
       "      <td>bvxjsbkqu.biz</td>\n",
       "      <td>dga</td>\n",
       "    </tr>\n",
       "    <tr>\n",
       "      <th>3</th>\n",
       "      <td>hggazskvkdy.com</td>\n",
       "      <td>dga</td>\n",
       "    </tr>\n",
       "    <tr>\n",
       "      <th>4</th>\n",
       "      <td>xgoqyxgfgm.com</td>\n",
       "      <td>dga</td>\n",
       "    </tr>\n",
       "  </tbody>\n",
       "</table>\n",
       "</div>"
      ],
      "text/plain": [
       "       domain_name label\n",
       "0    vvqbhhwma.org   dga\n",
       "1    cfhauqbaz.com   dga\n",
       "2    bvxjsbkqu.biz   dga\n",
       "3  hggazskvkdy.com   dga\n",
       "4   xgoqyxgfgm.com   dga"
      ]
     },
     "execution_count": 6,
     "metadata": {},
     "output_type": "execute_result"
    }
   ],
   "source": [
    "# Concatenating both datasets\n",
    "data = pd.concat([dga_domains, legit_domains])\n",
    "\n",
    "print(\"Whole Dataset has {} rows\".format(data.shape[0]))\n",
    "assert data.shape[0] == legit_domains.shape[0] * 2\n",
    "data.head()"
   ]
  },
  {
   "cell_type": "code",
   "execution_count": 7,
   "id": "3ad94614",
   "metadata": {},
   "outputs": [],
   "source": [
    "def entropy(domain_name):\n",
    "    \"\"\" Function which computes the entropy of a given domain name based on it's chars \"\"\"\n",
    "    elements, length = Counter(domain_name), len(domain_name)    \n",
    "    \n",
    "    return -sum(element/length * math.log(element/length, 2) for element in elements.values())"
   ]
  },
  {
   "cell_type": "code",
   "execution_count": 8,
   "id": "d9fbde29",
   "metadata": {},
   "outputs": [],
   "source": [
    "def get_domain_name(domain):\n",
    "    \"\"\" Function which extracts domain name from subdomain name \"\"\"\n",
    "    res = tldextract.extract(domain)\n",
    "    return res.domain if len(res.domain) > len(res.subdomain) or entropy(res.domain) > entropy(res.subdomain) else res.subdomain\n",
    "\n",
    "\n",
    "data[\"domain\"] = data[\"domain_name\"].apply(lambda domain: get_domain_name(domain))"
   ]
  },
  {
   "cell_type": "code",
   "execution_count": 9,
   "id": "cbf34d56",
   "metadata": {},
   "outputs": [
    {
     "data": {
      "text/html": [
       "<div>\n",
       "<style scoped>\n",
       "    .dataframe tbody tr th:only-of-type {\n",
       "        vertical-align: middle;\n",
       "    }\n",
       "\n",
       "    .dataframe tbody tr th {\n",
       "        vertical-align: top;\n",
       "    }\n",
       "\n",
       "    .dataframe thead th {\n",
       "        text-align: right;\n",
       "    }\n",
       "</style>\n",
       "<table border=\"1\" class=\"dataframe\">\n",
       "  <thead>\n",
       "    <tr style=\"text-align: right;\">\n",
       "      <th></th>\n",
       "      <th>domain_name</th>\n",
       "      <th>label</th>\n",
       "      <th>domain</th>\n",
       "      <th>length</th>\n",
       "      <th>entropy</th>\n",
       "    </tr>\n",
       "  </thead>\n",
       "  <tbody>\n",
       "    <tr>\n",
       "      <th>0</th>\n",
       "      <td>vvqbhhwma.org</td>\n",
       "      <td>dga</td>\n",
       "      <td>vvqbhhwma</td>\n",
       "      <td>9</td>\n",
       "      <td>2.725481</td>\n",
       "    </tr>\n",
       "    <tr>\n",
       "      <th>1</th>\n",
       "      <td>cfhauqbaz.com</td>\n",
       "      <td>dga</td>\n",
       "      <td>cfhauqbaz</td>\n",
       "      <td>9</td>\n",
       "      <td>2.947703</td>\n",
       "    </tr>\n",
       "    <tr>\n",
       "      <th>2</th>\n",
       "      <td>bvxjsbkqu.biz</td>\n",
       "      <td>dga</td>\n",
       "      <td>bvxjsbkqu</td>\n",
       "      <td>9</td>\n",
       "      <td>2.947703</td>\n",
       "    </tr>\n",
       "    <tr>\n",
       "      <th>3</th>\n",
       "      <td>hggazskvkdy.com</td>\n",
       "      <td>dga</td>\n",
       "      <td>hggazskvkdy</td>\n",
       "      <td>11</td>\n",
       "      <td>3.095795</td>\n",
       "    </tr>\n",
       "    <tr>\n",
       "      <th>4</th>\n",
       "      <td>xgoqyxgfgm.com</td>\n",
       "      <td>dga</td>\n",
       "      <td>xgoqyxgfgm</td>\n",
       "      <td>10</td>\n",
       "      <td>2.646439</td>\n",
       "    </tr>\n",
       "  </tbody>\n",
       "</table>\n",
       "</div>"
      ],
      "text/plain": [
       "       domain_name label       domain  length   entropy\n",
       "0    vvqbhhwma.org   dga    vvqbhhwma       9  2.725481\n",
       "1    cfhauqbaz.com   dga    cfhauqbaz       9  2.947703\n",
       "2    bvxjsbkqu.biz   dga    bvxjsbkqu       9  2.947703\n",
       "3  hggazskvkdy.com   dga  hggazskvkdy      11  3.095795\n",
       "4   xgoqyxgfgm.com   dga   xgoqyxgfgm      10  2.646439"
      ]
     },
     "execution_count": 9,
     "metadata": {},
     "output_type": "execute_result"
    }
   ],
   "source": [
    "# Applying functions above\n",
    "data[\"length\"] = data[\"domain\"].apply(lambda domain: len(domain))\n",
    "data[\"entropy\"] = data[\"domain\"].apply(lambda domain: entropy(domain))\n",
    "data.head()"
   ]
  },
  {
   "cell_type": "markdown",
   "id": "94596eea",
   "metadata": {},
   "source": [
    "#### Few visual representation of those predictors by label"
   ]
  },
  {
   "cell_type": "code",
   "execution_count": 10,
   "id": "80512b5a",
   "metadata": {},
   "outputs": [
    {
     "data": {
      "image/png": "[encoded data removed]",
      "text/plain": [
       "<Figure size 1200x800 with 1 Axes>"
      ]
     },
     "metadata": {},
     "output_type": "display_data"
    }
   ],
   "source": [
    "# Plots of those two columns\n",
    "\n",
    "import matplotlib.pyplot as plt\n",
    "import seaborn as sns\n",
    "\n",
    "sns.set_style(\"darkgrid\")\n",
    "plt.rcParams[\"figure.figsize\"] = (12, 8)\n",
    "font = {\"size\": 11}\n",
    "plt.rc('font', **font)\n",
    "\n",
    "mean_entropy = data.groupby(\"label\")[\"entropy\"].agg(\"mean\").reset_index()  # Reset index to get label as a column\n",
    "sns.barplot(x=\"label\", y=\"entropy\", data=mean_entropy, palette=\"viridis\")\n",
    "\n",
    "plt.ylabel(\"Mean of Entropy\")\n",
    "plt.title(\"Mean of Entropy by class\")\n",
    "plt.show()\n"
   ]
  },
  {
   "cell_type": "code",
   "execution_count": 11,
   "id": "b0186ec7",
   "metadata": {},
   "outputs": [
    {
     "data": {
      "image/png": "[encoded data removed]",
      "text/plain": [
       "<Figure size 1200x800 with 1 Axes>"
      ]
     },
     "metadata": {},
     "output_type": "display_data"
    }
   ],
   "source": [
    "# plots of the mean entropy by class\n",
    "\n",
    "import matplotlib.pyplot as plt\n",
    "import seaborn as sns\n",
    "\n",
    "sns.set_style(\"darkgrid\")\n",
    "plt.rcParams[\"figure.figsize\"] = (12, 8)\n",
    "font = {\"size\": 11}\n",
    "plt.rc('font', **font)\n",
    "\n",
    "mean_length = data.groupby(\"label\")[\"length\"].agg(\"mean\").reset_index()  # Reset index to get label as a column\n",
    "sns.barplot(x=\"label\", y=\"length\", data=mean_length, palette=\"viridis\")\n",
    "\n",
    "plt.ylabel(\"Mean of Length\")\n",
    "plt.title(\"Mean of Length by class\")\n",
    "plt.show()\n"
   ]
  },
  {
   "cell_type": "markdown",
   "id": "3b2c0460",
   "metadata": {},
   "source": [
    "#### Preparing data for training, we'll use a boosting model then iterate over"
   ]
  },
  {
   "cell_type": "code",
   "execution_count": 12,
   "id": "0a6a7c53",
   "metadata": {},
   "outputs": [],
   "source": [
    "# Creating feature and target vector\n",
    "\n",
    "X = data[[\"length\", \"entropy\"]]\n",
    "y = data[\"label\"]"
   ]
  },
  {
   "cell_type": "code",
   "execution_count": 13,
   "id": "958d813b",
   "metadata": {},
   "outputs": [],
   "source": [
    "# Creating train and test dataset with respect to a prior shuflle and a strtify\n",
    "\n",
    "from sklearn.model_selection import train_test_split\n",
    "\n",
    "\n",
    "X_train, X_test, y_train, y_test = train_test_split(X, y, train_size=0.8, test_size=0.2, shuffle=True, stratify=y)"
   ]
  },
  {
   "cell_type": "code",
   "execution_count": 14,
   "id": "c89fdf31",
   "metadata": {},
   "outputs": [],
   "source": [
    "# Target variable encoding\n",
    "\n",
    "from sklearn.preprocessing import LabelEncoder\n",
    "\n",
    "lb = LabelEncoder()\n",
    "\n",
    "y_train = lb.fit_transform(y_train)\n",
    "y_test = lb.transform(y_test)"
   ]
  },
  {
   "cell_type": "code",
   "execution_count": 15,
   "id": "c81e584b",
   "metadata": {},
   "outputs": [
    {
     "name": "stdout",
     "output_type": "stream",
     "text": [
      "[LightGBM] [Info] Number of positive: 555830, number of negative: 555829\n",
      "[LightGBM] [Info] Auto-choosing row-wise multi-threading, the overhead of testing was 0.007548 seconds.\n",
      "You can set `force_row_wise=true` to remove the overhead.\n",
      "And if memory is not enough, you can set `force_col_wise=true`.\n",
      "[LightGBM] [Info] Total Bins 304\n",
      "[LightGBM] [Info] Number of data points in the train set: 1111659, number of used features: 2\n",
      "[LightGBM] [Info] [binary:BoostFromScore]: pavg=0.500000 -> initscore=0.000002\n",
      "[LightGBM] [Info] Start training from score 0.000002\n"
     ]
    }
   ],
   "source": [
    "# Model training and prediction using lightbgm\n",
    "\n",
    "import lightgbm as lgb\n",
    "\n",
    "\n",
    "lgb_clf = lgb.LGBMClassifier()\n",
    "\n",
    "lgb_clf.fit(X_train, y_train)\n",
    "y_pred = lgb_clf.predict(X_test)"
   ]
  },
  {
   "cell_type": "code",
   "execution_count": 16,
   "id": "fc997234",
   "metadata": {},
   "outputs": [
    {
     "name": "stdout",
     "output_type": "stream",
     "text": [
      "Accuracy score is 88%\n",
      "Evaluation f1 score metric is 88%\n"
     ]
    }
   ],
   "source": [
    "# f1 score metric & accuracy\n",
    "\n",
    "from sklearn.metrics import f1_score,accuracy_score\n",
    "\n",
    "print(\"Accuracy score is {}%\".format(round(accuracy_score(y_test, y_pred) * 100), 2))\n",
    "print(\"Evaluation f1 score metric is {}%\".format(round(f1_score(y_test, y_pred) * 100), 2))"
   ]
  },
  {
   "cell_type": "code",
   "execution_count": 17,
   "id": "96c6618b",
   "metadata": {},
   "outputs": [
    {
     "data": {
      "image/png": "[encoded data removed]",
      "text/plain": [
       "<Figure size 1200x800 with 2 Axes>"
      ]
     },
     "metadata": {},
     "output_type": "display_data"
    }
   ],
   "source": [
    "# Confusion matrix\n",
    "\n",
    "# from sklearn.metrics import plot_confusion_matrix\n",
    "\n",
    "\n",
    "# plot_confusion_matrix(lgb_clf, X_test, y_test, display_labels=[\"legit\", \"dga\"])\n",
    "\n",
    "\n",
    "from sklearn.metrics import confusion_matrix\n",
    "\n",
    "\n",
    "# Calculate confusion matrix\n",
    "cm = confusion_matrix(y_test, y_pred)\n",
    "\n",
    "# Plot confusion matrix as heatmap\n",
    "sns.heatmap(cm, annot=True, fmt='d', cmap='viridis', xticklabels=[\"legit\", \"dga\"], yticklabels=[\"legit\", \"dga\"])\n",
    "plt.xlabel('Predicted label')\n",
    "plt.ylabel('True label')\n",
    "plt.title('Confusion Matrix')\n",
    "plt.show()\n"
   ]
  },
  {
   "cell_type": "markdown",
   "id": "44e57780",
   "metadata": {},
   "source": [
    "Well clearly we can try to do better and work on some more complex Feature Engineering based on the lexical constructindisplay_labels=ach domain name.\n",
    "\n",
    "We'll try to leverage how many occurence of grams we can find for each domain name in alexa grams (since they are legitimate) and in grams of word of an English dicitonary (could have added other languages...french, german etc..)"
   ]
  },
  {
   "cell_type": "code",
   "execution_count": 18,
   "id": "e1d18fdb",
   "metadata": {},
   "outputs": [
    {
     "data": {
      "text/plain": [
       "<694787x203095 sparse matrix of type '<class 'numpy.int64'>'\n",
       "\twith 13635372 stored elements in Compressed Sparse Row format>"
      ]
     },
     "execution_count": 18,
     "metadata": {},
     "output_type": "execute_result"
    }
   ],
   "source": [
    "# A choice of 3 to 5 grams seems okay\n",
    "\n",
    "from sklearn.feature_extraction.text import CountVectorizer\n",
    "\n",
    "\n",
    "split_condition = data[\"label\"] == \"legit\"\n",
    "legit = data[split_condition]\n",
    "dga = data[~split_condition]\n",
    "\n",
    "alexa_vc = CountVectorizer(analyzer=\"char\", ngram_range=(3,5), min_df=0.00001, max_df=1.0)\n",
    "counts_matrix = alexa_vc.fit_transform(legit[\"domain\"])\n",
    "\n",
    "counts_matrix"
   ]
  },
  {
   "cell_type": "code",
   "execution_count": 19,
   "id": "63000265",
   "metadata": {},
   "outputs": [
    {
     "name": "stdout",
     "output_type": "stream",
     "text": [
      "['--btb' '--c' '--c1' '--c1a' '--ct' '--ctb' '--d' '--d1' '--d1a' '--dt'\n",
      " '--dtb' '--e' '--e1' '--e1a' '--f' '--g' '--g1' '--g1a' '--gt' '--gtb'\n",
      " '--h' '--h1' '--h1a' '--ht' '--htb' '--i' '--it' '--itb' '--j' '--j1'\n",
      " '--j1a' '--jt' '--jtb' '--k' '--l' '--l3' '--l3c' '--m' '--mg' '--mgb'\n",
      " '--n' '--o' '--p' '--q' '--r' '--s' '--t' '--u' '--v' '--w' '--y' '--ym'\n",
      " '--ymc' '--z' '-01' '-1-' '-10' '-100' '-101' '-11' '-12' '-123' '-12c'\n",
      " '-12ca' '-12cl' '-13' '-14' '-15' '-16' '-168' '-17' '-18' '-19' '-1x'\n",
      " '-1x2' '-2-' '-20' '-200' '-201' '-202' '-2020' '-2021' '-21' '-22'\n",
      " '-22c' '-23' '-24' '-24-' '-24-6' '-25' '-26' '-28' '-29' '-3-' '-30'\n",
      " '-31' '-32' '-33' '-33-' '-34']\n"
     ]
    }
   ],
   "source": [
    "alexa_counts = np.log10(np.asarray(counts_matrix.sum(axis=0)).flatten())\n",
    "ngrams_list = alexa_vc.get_feature_names_out()\n",
    "print(ngrams_list[100:200])"
   ]
  },
  {
   "cell_type": "code",
   "execution_count": 20,
   "id": "38286f3f",
   "metadata": {},
   "outputs": [
    {
     "name": "stdout",
     "output_type": "stream",
     "text": [
      "Alexa NGrams 203095\n",
      "ing 4.3956233943558365\n",
      "ion 4.244821194593283\n",
      "ent 4.227475343482371\n",
      "ine 4.2259034449261605\n",
      "ter 4.213623993416087\n",
      "the 4.206771923055583\n",
      "lin 4.1798389280231865\n",
      "and 4.177103432436536\n",
      "ers 4.123099955255574\n",
      "tor 4.11747016362012\n"
     ]
    }
   ],
   "source": [
    "sorted_ngrams = sorted(zip(ngrams_list, alexa_counts), key=lambda alexa_count: alexa_count[1], reverse=True)\n",
    "print(\"Alexa NGrams {}\".format(len(sorted_ngrams)))\n",
    "for ngram, count in sorted_ngrams[:10]:\n",
    "    print(ngram, count)"
   ]
  },
  {
   "cell_type": "code",
   "execution_count": null,
   "id": "2a1fc549",
   "metadata": {},
   "outputs": [],
   "source": [
    "data[\"alexa_grams\"] = alexa_counts * alexa_vc.transform(data[\"domain\"]).T\n",
    "data[data[\"label\"] == \"legit\"].head()"
   ]
  },
  {
   "cell_type": "code",
   "execution_count": null,
   "id": "a0cf27f9",
   "metadata": {},
   "outputs": [],
   "source": [
    "words_df = pd.read_csv(\"../data/DGA/words.txt\", names=[\"word\"],\n",
    "                             encoding=\"utf-8\", header=None, dtype={\"word\": np.str_}, sep='\\t')\n",
    "words_df.head()"
   ]
  },
  {
   "cell_type": "code",
   "execution_count": null,
   "id": "16f51500",
   "metadata": {},
   "outputs": [],
   "source": [
    "def clean_words_df(word):\n",
    "    return str(word).strip().lower()\n",
    "\n",
    "def keep_alphanumeric(word):\n",
    "    return str(word).isalpha()\n",
    "\n",
    "\n",
    "\n",
    "words_df = words_df[words_df[\"word\"].map(lambda word: str(word).isalpha())]\n",
    "words_df = words_df.applymap(lambda word: str(word).strip().lower())\n",
    "\n",
    "words_df = words_df.dropna()\n",
    "words_df = words_df.drop_duplicates()"
   ]
  },
  {
   "cell_type": "code",
   "execution_count": null,
   "id": "5d397772",
   "metadata": {},
   "outputs": [],
   "source": [
    "words_df.head()"
   ]
  },
  {
   "cell_type": "code",
   "execution_count": null,
   "id": "45ebf57a",
   "metadata": {},
   "outputs": [],
   "source": [
    "dict_cv = CountVectorizer(analyzer=\"char\", ngram_range=(3,5), min_df=0.00001, max_df=1.0)\n",
    "words_counts_matrix = dict_cv.fit_transform(words_df[\"word\"])\n",
    "\n",
    "dict_counts = np.log(np.asarray(words_counts_matrix.sum(axis=0)).flatten())\n",
    "words_ngrams_list = dict_cv.get_feature_names_out()\n",
    "\n",
    "print(words_ngrams_list[100:200])"
   ]
  },
  {
   "cell_type": "code",
   "execution_count": null,
   "id": "4a552a78",
   "metadata": {},
   "outputs": [],
   "source": [
    "data[\"words_grams\"] = dict_counts * dict_cv.transform(data[\"domain\"]).T\n",
    "data.head()"
   ]
  },
  {
   "cell_type": "code",
   "execution_count": null,
   "id": "566242a8",
   "metadata": {},
   "outputs": [],
   "source": [
    "data[data[\"label\"] == \"legit\"].head(10)"
   ]
  },
  {
   "cell_type": "code",
   "execution_count": null,
   "id": "1b45ef8f",
   "metadata": {},
   "outputs": [],
   "source": [
    "sns.barplot(x=mean_alexa_grams.index, y=mean_alexa_grams.values, palette=\"viridis\")\n",
    "\n",
    "plt.ylabel(\"Mean of Alexa Grams\")\n",
    "plt.xlabel(\"Label\")\n",
    "plt.title(\"Mean of Alexa Grams by Label\")\n",
    "plt.show()"
   ]
  },
  {
   "cell_type": "code",
   "execution_count": null,
   "id": "8561b806",
   "metadata": {},
   "outputs": [],
   "source": [
    "sns.barplot(x=mean_words_grams.index, y=mean_words_grams.values, palette=\"viridis\")\n",
    "\n",
    "plt.ylabel(\"Mean of Words Grams\")\n",
    "plt.xlabel(\"Label\")\n",
    "plt.title(\"Mean of Words Grams by Label\")\n",
    "plt.show()"
   ]
  },
  {
   "cell_type": "code",
   "execution_count": null,
   "id": "8dbf9503",
   "metadata": {},
   "outputs": [],
   "source": [
    "sns.scatterplot(data=data, x=\"length\", y=\"alexa_grams\", hue=\"label\")"
   ]
  },
  {
   "cell_type": "code",
   "execution_count": null,
   "id": "0c5bee0a",
   "metadata": {},
   "outputs": [],
   "source": [
    "sns.scatterplot(data=data, x=\"entropy\", y=\"alexa_grams\", hue=\"label\")"
   ]
  },
  {
   "cell_type": "code",
   "execution_count": null,
   "id": "0eaa85dc",
   "metadata": {},
   "outputs": [],
   "source": [
    "sns.scatterplot(data=data, x=\"length\", y=\"words_grams\", hue=\"label\")"
   ]
  },
  {
   "cell_type": "code",
   "execution_count": null,
   "id": "e078382e",
   "metadata": {},
   "outputs": [],
   "source": [
    "sns.scatterplot(data=data, x=\"entropy\", y=\"words_grams\", hue=\"label\")"
   ]
  },
  {
   "cell_type": "code",
   "execution_count": null,
   "id": "f3fedc4a",
   "metadata": {},
   "outputs": [],
   "source": [
    "X_dash = data.drop([\"label\", \"domain_name\", \"domain\"], axis=1)\n",
    "y_dash = data[\"label\"]\n",
    "\n",
    "X_dash_train, X_dash_test, y_dash_train, y_dash_test = train_test_split(X_dash, y_dash, train_size=0.8, test_size=0.2, shuffle=True, stratify=y_dash)"
   ]
  },
  {
   "cell_type": "code",
   "execution_count": null,
   "id": "72ddf190",
   "metadata": {},
   "outputs": [],
   "source": [
    "lb_dash = LabelEncoder()\n",
    "\n",
    "y_dash_train = lb_dash.fit_transform(y_dash_train)\n",
    "y_dash_test = lb_dash.transform(y_dash_test)"
   ]
  },
  {
   "cell_type": "code",
   "execution_count": null,
   "id": "4e027b90",
   "metadata": {},
   "outputs": [],
   "source": [
    "lgb_clf_dash = lgb.LGBMClassifier()\n",
    "\n",
    "lgb_clf_dash.fit(X_dash_train, y_dash_train)\n",
    "y_dash_pred = lgb_clf_dash.predict(X_dash_test)"
   ]
  },
  {
   "cell_type": "code",
   "execution_count": null,
   "id": "3291bcb7",
   "metadata": {},
   "outputs": [],
   "source": [
    "print(\"Accuracy score is {}%\".format(round(accuracy_score(y_dash_test, y_dash_pred) * 100), 3))\n",
    "print(\"Evaluation f1 score metric is {}%\".format(round(f1_score(y_dash_test, y_dash_pred) * 100), 3))"
   ]
  },
  {
   "cell_type": "code",
   "execution_count": null,
   "id": "67ba06f3",
   "metadata": {},
   "outputs": [],
   "source": [
    "# Calculate confusion matrix\n",
    "cm = confusion_matrix(y_dash_test, y_dash_pred)\n",
    "\n",
    "# Plot confusion matrix as heatmap\n",
    "sns.heatmap(cm, annot=True, fmt='d', cmap='viridis', xticklabels=[\"legit\", \"dga\"], yticklabels=[\"legit\", \"dga\"])\n",
    "plt.xlabel('Predicted label')\n",
    "plt.ylabel('True label')\n",
    "plt.title('Confusion Matrix')\n",
    "plt.show()\n"
   ]
  },
  {
   "cell_type": "code",
   "execution_count": null,
   "id": "7f280501",
   "metadata": {},
   "outputs": [],
   "source": [
    "# Save Model Weights and Architecture Together\n",
    "# The Gradient boosting classifier had the best results so we will save it's model\n",
    "import joblib\n",
    "model = open(\"../models/DGA.pkl\",\"wb\")\n",
    "joblib.dump(lgb_clf_dash, model)\n",
    "model.close()"
   ]
  },
  {
   "cell_type": "code",
   "execution_count": null,
   "id": "ba46625e",
   "metadata": {},
   "outputs": [],
   "source": [
    "data.head()\n"
   ]
  },
  {
   "cell_type": "code",
   "execution_count": null,
   "id": "5b8ee613",
   "metadata": {},
   "outputs": [],
   "source": [
    "data.to_csv(\"DGA_Processed.csv\")"
   ]
  },
  {
   "cell_type": "code",
   "execution_count": null,
   "id": "ecabe51a",
   "metadata": {},
   "outputs": [],
   "source": []
  }
 ],
 "metadata": {
  "kernelspec": {
   "display_name": "Python 3 (ipykernel)",
   "language": "python",
   "name": "python3"
  },
  "language_info": {
   "codemirror_mode": {
    "name": "ipython",
    "version": 3
   },
   "file_extension": ".py",
   "mimetype": "text/x-python",
   "name": "python",
   "nbconvert_exporter": "python",
   "pygments_lexer": "ipython3",
   "version": "3.11.5"
  }
 },
 "nbformat": 4,
 "nbformat_minor": 5
}
